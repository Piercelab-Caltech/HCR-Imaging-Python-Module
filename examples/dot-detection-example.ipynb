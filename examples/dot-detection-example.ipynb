version https://git-lfs.github.com/spec/v1
oid sha256:b93461defd625d0585cce08afc81a224cc1e070f81a33576d0069a00ed0c62cb
size 10043871
