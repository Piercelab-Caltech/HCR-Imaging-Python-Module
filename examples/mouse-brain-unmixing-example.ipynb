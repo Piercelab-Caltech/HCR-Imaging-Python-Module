{
 "cells": [
  {
   "cell_type": "code",
   "execution_count": null,
   "id": "0683991f-054b-48b3-bd23-ac4a1a94835d",
   "metadata": {},
   "outputs": [],
   "source": [
    "# This notebook is not completed -- will be finalized after zebrafish example."
   ]
  }
 ],
 "metadata": {
  "kernelspec": {
   "display_name": "Python 3 (ipykernel)",
   "language": "python",
   "name": "python3"
  },
  "language_info": {
   "codemirror_mode": {
    "name": "ipython",
    "version": 3
   },
   "file_extension": ".py",
   "mimetype": "text/x-python",
   "name": "python",
   "nbconvert_exporter": "python",
   "pygments_lexer": "ipython3",
   "version": "3.12.1"
  }
 },
 "nbformat": 4,
 "nbformat_minor": 5
}
