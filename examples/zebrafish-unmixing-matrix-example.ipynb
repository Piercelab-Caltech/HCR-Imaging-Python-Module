version https://git-lfs.github.com/spec/v1
oid sha256:40f00ed985a41cb3992c6f834992c04ab4afcefdcd15940997b2e5b853170ae7
size 19844691
